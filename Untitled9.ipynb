{
  "nbformat": 4,
  "nbformat_minor": 0,
  "metadata": {
    "colab": {
      "provenance": [],
      "authorship_tag": "ABX9TyPy+b72QeU+GLJqrH819B8V",
      "include_colab_link": true
    },
    "kernelspec": {
      "name": "python3",
      "display_name": "Python 3"
    },
    "language_info": {
      "name": "python"
    }
  },
  "cells": [
    {
      "cell_type": "markdown",
      "metadata": {
        "id": "view-in-github",
        "colab_type": "text"
      },
      "source": [
        "<a href=\"https://colab.research.google.com/github/EvertonAnjos/Funcao-Calculadora/blob/main/Untitled9.ipynb\" target=\"_parent\"><img src=\"https://colab.research.google.com/assets/colab-badge.svg\" alt=\"Open In Colab\"/></a>"
      ]
    },
    {
      "cell_type": "code",
      "execution_count": null,
      "metadata": {
        "id": "i9qbLRGPqw4I"
      },
      "outputs": [],
      "source": [
        "\n",
        "def calculadora():\n",
        "    operacao = input('Escolha a operação: ')\n",
        "    num1 = float(input('Digite o primeiro número: '))\n",
        "    num2 = float(input('Digite o segundo número: '))\n",
        "\n",
        "    if (operacao == '+'):\n",
        "      soma = num1 + num2\n",
        "      print(soma)\n",
        "\n",
        "    elif (operacao == '-'):\n",
        "      sub = num1 - num2\n",
        "      print(sub)\n",
        "\n",
        "    elif (operacao == '*'):\n",
        "      multi = num1 * num2\n",
        "      print(multi)\n",
        "\n",
        "    elif (operacao == '/'):\n",
        "      if (num1 / num2):\n",
        "        div = num1 / num2\n",
        "        print(div)\n",
        "    else:\n",
        "      print('Por favor, digitar número diferente de Zero:')\n",
        "\n",
        "print(calculadora())"
      ]
    }
  ]
}